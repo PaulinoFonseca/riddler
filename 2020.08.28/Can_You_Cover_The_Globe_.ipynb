{
  "nbformat": 4,
  "nbformat_minor": 0,
  "metadata": {
    "colab": {
      "name": "Can You Cover The Globe?.ipynb",
      "provenance": []
    },
    "kernelspec": {
      "name": "python3",
      "display_name": "Python 3"
    }
  },
  "cells": [
    {
      "cell_type": "markdown",
      "metadata": {
        "id": "HQntJa5hCZUm",
        "colab_type": "text"
      },
      "source": [
        "# **August 28, 2020**\n",
        "##**Riddler Express**\n",
        "###**Question**\n",
        "*You want to cover the globe with a giant sheet that lies flat on the ground. If you want the sheet to be 1 meter off the ground (just like the rope), by how much would you have to increase the area of your sheet?*\n",
        "\n",
        "*Extra credit: What city, country, land mass or body of water has an area that is very close to your answer?*\n",
        "###**Solution**\n",
        "Firstly, let's start with the case in which we want to cover the Earth's equator with a rope and we will increase the rope's length in order to the rope stay one meter off the ground all around the globe.\n",
        "\n",
        "To do so, let's imagine that a given planet has radius R and we want the rope to be h meters above the ground.\n",
        "\n",
        "\n"
      ]
    },
    {
      "cell_type": "code",
      "metadata": {
        "id": "2foQRi-8F-Fc",
        "colab_type": "code",
        "colab": {}
      },
      "source": [
        "def rope_increase(R,h):\n",
        "  c1 = 2*(3.14)*R #original rope's lenght\n",
        "  c2 = 2*(3.14)*(R+h) #increased rope's lenght\n",
        "  print(\"%.2f m\" %(c2-c1)) #how much the rope's lenght increased"
      ],
      "execution_count": 28,
      "outputs": []
    },
    {
      "cell_type": "markdown",
      "metadata": {
        "id": "uef7hXWiHbVQ",
        "colab_type": "text"
      },
      "source": [
        "By using the Earth's radius (6,378 km) and given height(1 m), we find out that:"
      ]
    },
    {
      "cell_type": "code",
      "metadata": {
        "id": "yi1s_XTwHxrc",
        "colab_type": "code",
        "colab": {
          "base_uri": "https://localhost:8080/",
          "height": 34
        },
        "outputId": "061e8535-707f-4e02-8242-ef68293d2d00"
      },
      "source": [
        "rope_increase(6378,1)"
      ],
      "execution_count": 29,
      "outputs": [
        {
          "output_type": "stream",
          "text": [
            "6.28 m\n"
          ],
          "name": "stdout"
        }
      ]
    },
    {
      "cell_type": "markdown",
      "metadata": {
        "id": "WduSnJGuI7vM",
        "colab_type": "text"
      },
      "source": [
        "Which is exactly the answer FiveThirtyEight's given us. Besides that, it is notable that the planet's radius is not used in this calculus: the increasing in the rope's lenght is given by 6,28*h.\n",
        "\n",
        "Heading towards the problem itself, we'll use the exact same logic we used to solve the rope's problem in order to solve the sheet's problem."
      ]
    },
    {
      "cell_type": "code",
      "metadata": {
        "id": "_twBvheWJx3P",
        "colab_type": "code",
        "colab": {}
      },
      "source": [
        "def sheet_increase(R,h):\n",
        "  a1 = 4*(3.14)*(R**2) #original sheet's area\n",
        "  a2 = 4*(3.14)*((R+h)**2) #increased sheet's area\n",
        "  print(\"%.2f m²\" %(a2-a1)) #how much the sheet's area increased"
      ],
      "execution_count": 26,
      "outputs": []
    },
    {
      "cell_type": "markdown",
      "metadata": {
        "id": "wJ5AJPjmKVGw",
        "colab_type": "text"
      },
      "source": [
        "By using the value's we also used in the rope's problem, we find out that:"
      ]
    },
    {
      "cell_type": "code",
      "metadata": {
        "id": "-LBSdjlWKbJw",
        "colab_type": "code",
        "colab": {
          "base_uri": "https://localhost:8080/",
          "height": 34
        },
        "outputId": "17241db7-8b80-4546-fce9-361021dadb03"
      },
      "source": [
        "sheet_increase(6378,1)"
      ],
      "execution_count": 27,
      "outputs": [
        {
          "output_type": "stream",
          "text": [
            "160227.92 m²\n"
          ],
          "name": "stdout"
        }
      ]
    },
    {
      "cell_type": "markdown",
      "metadata": {
        "id": "REIVL7EKM3Vu",
        "colab_type": "text"
      },
      "source": [
        "In the sheet's case, the increased area is proportional to the radius of the planet. \n",
        "\n",
        "In addition, the answer to the extra-credit is Jemo Island from the Marshall Islands archipelago, that has, according to Wikipedia 16 ha(160.000 m²)."
      ]
    }
  ]
}